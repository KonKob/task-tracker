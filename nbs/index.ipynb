{
 "cells": [
  {
   "cell_type": "markdown",
   "metadata": {},
   "source": [
    "# task-tracker\n",
    "\n",
    "> A tool to track tasks, record audio and collect probands' demographics, designed to be used in a think-aloud approach"
   ]
  },
  {
   "cell_type": "markdown",
   "metadata": {},
   "source": [
    "## Install\n",
    "\n",
    "Currently, task-tracker is not available on pip or conda. It will be accessible via the command below after release, whenever a stable version is created."
   ]
  },
  {
   "cell_type": "markdown",
   "metadata": {},
   "source": [
    "```sh\n",
    "pip install task_tracker\n",
    "```"
   ]
  },
  {
   "cell_type": "markdown",
   "metadata": {},
   "source": [
    "## How to use\n",
    "\n",
    "*Example on how to use task-tracker on a `lasagne recipe`.*\n",
    "\n",
    "::: {.callout-note}\n",
    "You can find the notebook and the results of the `lasagne recipe` at <https://github.com/KonKob/task-tracker/blob/main/test_data>.\n",
    ":::"
   ]
  },
  {
   "cell_type": "markdown",
   "metadata": {},
   "source": [
    "---"
   ]
  },
  {
   "cell_type": "markdown",
   "metadata": {},
   "source": [
    "### This is how the landing page looks like after completing a trial:\n",
    "![landing page](https://github.com/KonKob/task-tracker/blob/main/media/landing_page.png?raw=true)\n",
    "\n",
    "- Whenever the trial is started here, an audio recording is started, that can be transcribed after completion of the trial.\n",
    "\n",
    "- At the right you see the timeline of tasks over the session so far. You can update it at any time.\n",
    "\n",
    "- In the middle of the landing page, you can add a description manually to running or finished tasks.\n",
    "\n",
    "- The proband metadata can be saved at any time by clicking `Export proband metadata`.\n",
    "\n",
    "- To pause all tasks, you can click `Start pause for all` during a running trial.\n",
    "\n",
    "\n",
    "### The proband metadata can be entered in the following mask:\n",
    "![proband metadata](https://github.com/KonKob/task-tracker/blob/main/media/proband_metadata.png?raw=true)\n",
    "\n",
    "\n",
    "### Tasks, that you want to track, are shown in different tabs. \n",
    "![task page](https://github.com/KonKob/task-tracker/blob/main/media/task_page.png?raw=true)\n",
    "\n",
    "- Whenever you click on a task, this task is started and another task running in this tab is ended. You can end a task by clicking `No task running` as well.\n",
    "\n",
    "- If you find, that you forgot a tasks, you can add it by entering the name in the grey line `Other` and then clicking the grey button `Other`.\n",
    "\n",
    "- To pause a task, just hit `Start pause`. "
   ]
  },
  {
   "cell_type": "markdown",
   "metadata": {},
   "source": [
    "---"
   ]
  },
  {
   "cell_type": "markdown",
   "metadata": {},
   "source": [
    "### Exporting the results creates excel files."
   ]
  },
  {
   "cell_type": "code",
   "execution_count": null,
   "metadata": {},
   "outputs": [
    {
     "data": {
      "text/html": [
       "<div>\n",
       "<style scoped>\n",
       "    .dataframe tbody tr th:only-of-type {\n",
       "        vertical-align: middle;\n",
       "    }\n",
       "\n",
       "    .dataframe tbody tr th {\n",
       "        vertical-align: top;\n",
       "    }\n",
       "\n",
       "    .dataframe thead th {\n",
       "        text-align: right;\n",
       "    }\n",
       "</style>\n",
       "<table border=\"1\" class=\"dataframe\">\n",
       "  <thead>\n",
       "    <tr style=\"text-align: right;\">\n",
       "      <th></th>\n",
       "      <th>lane</th>\n",
       "      <th>duration_in_s</th>\n",
       "      <th>task_number</th>\n",
       "      <th>task_name</th>\n",
       "      <th>start_time</th>\n",
       "      <th>end_time</th>\n",
       "      <th>description_0</th>\n",
       "    </tr>\n",
       "  </thead>\n",
       "  <tbody>\n",
       "    <tr>\n",
       "      <th>0</th>\n",
       "      <td>Kitchen appliances</td>\n",
       "      <td>1.3528</td>\n",
       "      <td>12</td>\n",
       "      <td>Pause</td>\n",
       "      <td>203.6099</td>\n",
       "      <td>204.9627</td>\n",
       "      <td>220°C</td>\n",
       "    </tr>\n",
       "    <tr>\n",
       "      <th>1</th>\n",
       "      <td>Kitchen appliances</td>\n",
       "      <td>52.8952</td>\n",
       "      <td>6</td>\n",
       "      <td>Stove</td>\n",
       "      <td>89.5415</td>\n",
       "      <td>142.4367</td>\n",
       "      <td>NaN</td>\n",
       "    </tr>\n",
       "    <tr>\n",
       "      <th>2</th>\n",
       "      <td>Kitchen appliances</td>\n",
       "      <td>111.9687</td>\n",
       "      <td>12</td>\n",
       "      <td>Oven</td>\n",
       "      <td>142.4370</td>\n",
       "      <td>255.7585</td>\n",
       "      <td>220°C</td>\n",
       "    </tr>\n",
       "    <tr>\n",
       "      <th>3</th>\n",
       "      <td>Ingredients</td>\n",
       "      <td>28.0470</td>\n",
       "      <td>0</td>\n",
       "      <td>Onions</td>\n",
       "      <td>10.3749</td>\n",
       "      <td>38.4219</td>\n",
       "      <td>NaN</td>\n",
       "    </tr>\n",
       "    <tr>\n",
       "      <th>4</th>\n",
       "      <td>Ingredients</td>\n",
       "      <td>19.8456</td>\n",
       "      <td>2</td>\n",
       "      <td>Carrots</td>\n",
       "      <td>39.5850</td>\n",
       "      <td>59.4306</td>\n",
       "      <td>NaN</td>\n",
       "    </tr>\n",
       "  </tbody>\n",
       "</table>\n",
       "</div>"
      ],
      "text/plain": [
       "                 lane  duration_in_s  task_number task_name  start_time  \\\n",
       "0  Kitchen appliances         1.3528           12     Pause    203.6099   \n",
       "1  Kitchen appliances        52.8952            6     Stove     89.5415   \n",
       "2  Kitchen appliances       111.9687           12      Oven    142.4370   \n",
       "3         Ingredients        28.0470            0    Onions     10.3749   \n",
       "4         Ingredients        19.8456            2   Carrots     39.5850   \n",
       "\n",
       "   end_time description_0  \n",
       "0  204.9627         220°C  \n",
       "1  142.4367           NaN  \n",
       "2  255.7585         220°C  \n",
       "3   38.4219           NaN  \n",
       "4   59.4306           NaN  "
      ]
     },
     "execution_count": null,
     "metadata": {},
     "output_type": "execute_result"
    }
   ],
   "source": [
    "from task_tracker.utils import load_trial\n",
    "trial = load_trial(\"../test_data/2023-08-07_17.43.23_0000_Chef/\")\n",
    "trial.tasks_dataframe.head()"
   ]
  },
  {
   "cell_type": "markdown",
   "metadata": {},
   "source": [
    "### For visualization, several plots are created.\n",
    "\n",
    "#### The cumulative duration spent in certain tasks can be shown as bar and tie plots.\n",
    "![cumulative duration of tasks in trial](https://github.com/KonKob/task-tracker/blob/main/test_data/2023-08-07_17.43.23_0000_Chef/2023-08-07_17.47.39_cumulative_tie_plots.png?raw=true)\n",
    "\n",
    "#### It can also be shown, how much time was spent in tasks running in parallel to other tasks. \n",
    "![tie plot per task](https://github.com/KonKob/task-tracker/blob/main/test_data/2023-08-07_17.43.23_0000_Chef/2023-08-07_17.47.39_pie_plots_per_lane.png?raw=true)"
   ]
  },
  {
   "cell_type": "code",
   "execution_count": null,
   "metadata": {},
   "outputs": [],
   "source": []
  }
 ],
 "metadata": {
  "kernelspec": {
   "display_name": "python3",
   "language": "python",
   "name": "python3"
  }
 },
 "nbformat": 4,
 "nbformat_minor": 4
}
