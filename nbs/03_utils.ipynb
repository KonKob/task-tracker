{
 "cells": [
  {
   "cell_type": "code",
   "execution_count": null,
   "id": "d50df098-6d35-4ec1-8bb5-a8c9ee352636",
   "metadata": {},
   "outputs": [],
   "source": [
    "#| default_exp utils\n",
    "%load_ext autoreload\n",
    "%autoreload 2"
   ]
  },
  {
   "cell_type": "markdown",
   "id": "c219f3a2-935d-42ae-ab8a-c993619b33cc",
   "metadata": {},
   "source": [
    "# utils\n",
    "\n",
    "> methods used in multiple classes"
   ]
  },
  {
   "cell_type": "code",
   "execution_count": null,
   "id": "c47f93ab-450e-4891-a97d-076f923962a5",
   "metadata": {},
   "outputs": [],
   "source": [
    "#| hide\n",
    "from nbdev.showdoc import *"
   ]
  },
  {
   "cell_type": "code",
   "execution_count": null,
   "id": "d222c43d-3726-4539-8325-6187c0313229",
   "metadata": {},
   "outputs": [],
   "source": [
    "#| export\n",
    "import time\n",
    "import datetime\n",
    "from typing import List\n",
    "from pathlib import Path\n",
    "import pickle\n",
    "\n",
    "from matplotlib.gridspec import GridSpec\n",
    "import matplotlib.pyplot as plt\n",
    "import seaborn as sns\n",
    "import pandas as pd\n",
    "import speech_recognition as sr"
   ]
  },
  {
   "cell_type": "code",
   "execution_count": null,
   "id": "4a78f080-4460-4cab-8b86-5ea58bb6ccc4",
   "metadata": {},
   "outputs": [],
   "source": [
    "#| export\n",
    "def save_trial(trial):\n",
    "    pickled_trial = pickle.dumps(trial)\n",
    "    with open(trial.out_dir.joinpath(\"trial.p\"), 'wb') as file:\n",
    "        pickle.dump(pickled_trial, file)"
   ]
  },
  {
   "cell_type": "code",
   "execution_count": null,
   "id": "84e4ef25-dd87-4558-88cd-0e2dfd39401e",
   "metadata": {},
   "outputs": [],
   "source": [
    "show_doc(save_trial)"
   ]
  },
  {
   "cell_type": "code",
   "execution_count": null,
   "id": "17f7487c-78d4-4df0-b234-8c16e3873010",
   "metadata": {},
   "outputs": [],
   "source": [
    "#| export\n",
    "def load_trial(tasks_dir):\n",
    "    loaded_trial = None\n",
    "    for file in Path(tasks_dir).iterdir():\n",
    "        if file.suffix == \".p\":\n",
    "            with open(file, 'rb') as pickled_file:\n",
    "                loaded_pickled_trial = pickle.load(pickled_file)\n",
    "            loaded_trial = pickle.loads(loaded_pickled_trial)\n",
    "    if loaded_trial is None:\n",
    "        raise FileNotFoundError(\"No pickle file found in this directory!\")\n",
    "    return loaded_trial"
   ]
  },
  {
   "cell_type": "code",
   "execution_count": null,
   "id": "7b9ce0f3-9171-4dcb-8ce1-dec4ba053362",
   "metadata": {},
   "outputs": [],
   "source": [
    "show_doc(load_trial)"
   ]
  },
  {
   "cell_type": "code",
   "execution_count": null,
   "id": "b0570d6b-0946-4802-8f12-5a8dfdb23778",
   "metadata": {},
   "outputs": [],
   "source": [
    "#| export\n",
    "def transcribe_audio_to_task(task, r, file, trial):\n",
    "    duration = get_duration_in_s_from_timestamps(task.start_time, task.end_time)\n",
    "    with file as source:\n",
    "        start = get_duration_in_s_from_timestamps(trial.start_time, task.start_time)\n",
    "        r.adjust_for_ambient_noise(source, duration=0.5)\n",
    "        audio = r.record(source, offset=start, duration=duration)\n",
    "    try:\n",
    "        description = r.recognize_google(audio, language=\"de-DE\")\n",
    "    except sr.UnknownValueError:\n",
    "        description = []\n",
    "    task.add_description(description)"
   ]
  },
  {
   "cell_type": "code",
   "execution_count": null,
   "id": "3e2b9b5a-121e-41b0-9877-cc11a58db186",
   "metadata": {},
   "outputs": [],
   "source": [
    "#| export\n",
    "def get_duration_in_s_from_timestamps(start_time_stamp, end_time_stamp=None):\n",
    "    if end_time_stamp is None:\n",
    "        end_time_stamp = round(time.time(), 4)\n",
    "    return datetime.timedelta(seconds=end_time_stamp-start_time_stamp).total_seconds()"
   ]
  },
  {
   "cell_type": "code",
   "execution_count": null,
   "id": "b565bc63-a785-4bba-b067-804b11382c84",
   "metadata": {},
   "outputs": [],
   "source": [
    "#| export\n",
    "def get_colors(task_names, palette_name=\"colorblind\"):\n",
    "    if len(task_names) > 20:\n",
    "        palette_name = \"husl\"\n",
    "    cmap = sns.color_palette(palette_name, len(task_names))\n",
    "    colors = {name : color for name, color in zip(task_names, cmap)}\n",
    "    return colors"
   ]
  },
  {
   "cell_type": "code",
   "execution_count": null,
   "id": "6bfc89af-ca2e-4e58-ad19-85120d37d192",
   "metadata": {},
   "outputs": [],
   "source": [
    "#| export\n",
    "def create_cumulative_bar_plots(d, task_names, colors, bar_height = 1):\n",
    "    artist_dict = {\"Pause\": None}\n",
    "    \n",
    "    fig, ax = plt.subplots()\n",
    "    for task in task_names:\n",
    "        if task != \"Pause\":\n",
    "            task_subset = d.loc[d[\"task_name\"]==task, :]\n",
    "            height = task_subset.sum()[\"duration_in_s\"]\n",
    "            plt.bar(task, height, color=colors[task])\n",
    "    ax.set_ylabel(\"cumulative time [s]\")\n",
    "    ax.set_xlabel(\"tasks\")\n",
    "    plt.legend(artist_dict.values(), artist_dict.keys())\n",
    "    plt.close()\n",
    "    return fig"
   ]
  },
  {
   "cell_type": "code",
   "execution_count": null,
   "id": "f659fee1-52df-49b4-853c-8198e6bf94f7",
   "metadata": {},
   "outputs": [],
   "source": [
    "#| export\n",
    "def create_cumulative_tie_plots(d, task_names, colors, bar_height = 1):\n",
    "    artist_dict = {}\n",
    "\n",
    "    fig, ax = plt.subplots()\n",
    "    pieces = {}\n",
    "    for task in task_names:\n",
    "        if task != \"Pause\":\n",
    "            task_subset = d.loc[d[\"task_name\"]==task, :]\n",
    "            pieces[task] = task_subset.sum()[\"duration_in_s\"]\n",
    "    plt.pie(pieces.values(), labels = [f\"{key}\\n{pieces[key].round(2)}s\" for key in pieces],  colors=colors.values()) #, explode = [0.1]*len(pieces),\n",
    "    plt.close()\n",
    "    return fig"
   ]
  },
  {
   "cell_type": "code",
   "execution_count": null,
   "id": "240a502f-f980-4327-8f62-947d3efff67f",
   "metadata": {},
   "outputs": [],
   "source": [
    "#| export\n",
    "def create_cumulative_dataframe(d, task_names=None):\n",
    "    pieces = {}\n",
    "    task_names = d[\"task_name\"].unique()\n",
    "    \n",
    "    for task in task_names:\n",
    "        if task != \"Pause\":\n",
    "            task_subset = d.loc[d[\"task_name\"]==task, :]\n",
    "            pieces[task] = task_subset.sum()[\"duration_in_s\"]\n",
    "    return pd.DataFrame(pieces, index=[\"cumulative time [s]\"])"
   ]
  },
  {
   "cell_type": "code",
   "execution_count": null,
   "id": "710ee214-9448-4c1d-9b1d-57f0862e5a05",
   "metadata": {},
   "outputs": [],
   "source": [
    "#| export\n",
    "def create_timeline(d, task_names, colors, bar_height = 1):\n",
    "    artist_dict = {}\n",
    "\n",
    "    fig, ax = plt.subplots()\n",
    "    for task_number in d[\"task_number\"].unique():\n",
    "        task = d.loc[(d[\"task_number\"]==task_number) & (d[\"task_name\"]!=\"Pause\"), :]\n",
    "        task_start_time = task.loc[: , \"start_time\"]\n",
    "        task_duration = get_duration_in_s_from_timestamps(task.loc[: , \"start_time\"].values[0], task.loc[: , \"end_time\"].values[0])\n",
    "        task_name = task.loc[: , \"task_name\"]\n",
    "        lane = task.loc[: , \"lane\"]\n",
    "        artist_dict[task_name.values[0]] = plt.barh(lane, task_duration, bar_height, left=task_start_time, color=colors[task_name.values[0]])\n",
    "        pauses = d.loc[(d[\"task_number\"]==task_number) & (d[\"task_name\"]==\"Pause\"), :]\n",
    "        for pause in pauses.index:\n",
    "            pause_start_time = pauses.loc[pause , \"start_time\"]\n",
    "            pause_duration = pauses.loc[pause , \"duration_in_s\"]\n",
    "            artist_dict[\"Pause\"] = plt.barh(lane, pause_duration, bar_height, left=pause_start_time, color = \"grey\", alpha = 0.5)\n",
    "    ax.set_xlabel(\"time [s]\")\n",
    "    ax.set_ylabel(\"Tasks\")\n",
    "    plt.legend(artist_dict.values(), artist_dict.keys())\n",
    "    plt.close()\n",
    "    return fig"
   ]
  },
  {
   "cell_type": "code",
   "execution_count": null,
   "id": "c5f2e93e-0431-4a26-a9c2-ff2c83e66d3b",
   "metadata": {},
   "outputs": [],
   "source": [
    "#| export\n",
    "def create_cumulative_pie_plots_per_lane(dataframe_per_subtasks):\n",
    "    cols, rows = get_number_of_columns(len(dataframe_per_subtasks.columns))\n",
    "    fig = plt.figure(figsize = (rows*6, 4*cols))\n",
    "    gs = GridSpec(cols, rows)\n",
    "\n",
    "    i = 0\n",
    "    n = 0\n",
    "    for col in dataframe_per_subtasks.columns:\n",
    "        ax = plt.subplot(gs[n, i])\n",
    "        ax.pie(dataframe_per_subtasks.loc[:, col].dropna(), labels = [f'{key}\\n{value.round(2)}s' for key, value in zip(dataframe_per_subtasks.loc[:, col].dropna().keys(), dataframe_per_subtasks.loc[:, col].dropna().values)])\n",
    "        ax.set_title(f\"{col}\\nCumulative duration [s]\")\n",
    "        if i + 1 < rows:\n",
    "            i += 1\n",
    "        else:\n",
    "            i = 0\n",
    "            n += 1\n",
    "\n",
    "    plt.close()\n",
    "    return fig"
   ]
  },
  {
   "cell_type": "code",
   "execution_count": null,
   "id": "632753c0-7157-4782-a2a8-7d49e4b1532f",
   "metadata": {},
   "outputs": [],
   "source": [
    "#| export\n",
    "def create_cumulative_bar_plots_per_lane(dataframe_per_subtasks):\n",
    "    cols, rows = get_number_of_columns(len(dataframe_per_subtasks.columns))\n",
    "    \n",
    "    fig = plt.figure(figsize = (rows*6, 4*cols))\n",
    "    gs = GridSpec(cols, rows)\n",
    "\n",
    "    i = 0\n",
    "    n = 0\n",
    "    for col in dataframe_per_subtasks.columns:\n",
    "        ax = plt.subplot(gs[n, i])\n",
    "        ax.bar([f'{key}' for key in dataframe_per_subtasks.loc[:, col].dropna().keys()], dataframe_per_subtasks.loc[:, col].dropna())\n",
    "        ax.set_title(f\"{col}\\nCumulative duration [s]\")\n",
    "        if i + 1 < rows:\n",
    "            i += 1\n",
    "        else:\n",
    "            i = 0\n",
    "            n += 1\n",
    "    plt.close()\n",
    "    return fig"
   ]
  },
  {
   "cell_type": "code",
   "execution_count": null,
   "id": "68e4abe6-0087-4b93-94a1-a345627ff4cf",
   "metadata": {},
   "outputs": [],
   "source": [
    "#| export\n",
    "def get_number_of_columns(columns, plots_in_one_row = 4):\n",
    "    min_cols = columns//plots_in_one_row\n",
    "    if columns%plots_in_one_row != 0:\n",
    "        cols = min_cols + 1\n",
    "    else:\n",
    "        cols = min_cols\n",
    "    return cols, plots_in_one_row"
   ]
  },
  {
   "cell_type": "code",
   "execution_count": null,
   "id": "c3998642-2c4f-4ed8-8b3a-f3d9639383d6",
   "metadata": {},
   "outputs": [],
   "source": [
    "#| hide\n",
    "import nbdev; nbdev.nbdev_export()"
   ]
  }
 ],
 "metadata": {
  "kernelspec": {
   "display_name": "python3",
   "language": "python",
   "name": "python3"
  }
 },
 "nbformat": 4,
 "nbformat_minor": 5
}
